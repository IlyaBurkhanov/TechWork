{
 "cells": [
  {
   "cell_type": "markdown",
   "id": "f8ca4cdf",
   "metadata": {},
   "source": [
    "### 1. Нужно дедуктивно догадаться и написать аннотации типов к функции calc_summary_free_space"
   ]
  },
  {
   "cell_type": "code",
   "execution_count": 62,
   "id": "7dd2e9b3",
   "metadata": {},
   "outputs": [
    {
     "data": {
      "text/plain": [
       "26.0"
      ]
     },
     "execution_count": 62,
     "metadata": {},
     "output_type": "execute_result"
    }
   ],
   "source": [
    "import typing as tp\n",
    "\n",
    "T = tp.TypeVar('T', int, float)  # Есть абстракции Numbers, но вроде как Mypy не умеет работать с этой абстракцией\n",
    "\n",
    "def calc_summary_free_space(bucket_space_info: tp.Mapping[tp.Any, T]) -> T:\n",
    "    if not bucket_space_info:\n",
    "        return None\n",
    "    total_free_space = 0\n",
    "    for bucket_name, bucket_free_space in bucket_space_info.items(): # Здесь ответ\n",
    "        if bucket_name in ('dev_team', 'users', 'tech_support'):\n",
    "            total_free_space += bucket_free_space\n",
    "    return total_free_space\n",
    "\n",
    "\n",
    "calc_summary_free_space({'dev_team': 21.0, 'users': 5, 'abc': 55, 5:5})"
   ]
  },
  {
   "cell_type": "markdown",
   "id": "246a7abd",
   "metadata": {},
   "source": [
    "Решение в голове цикла. Мы получаем итерируемый объект, запрашивая ключ и значение (словерю-подобный объект). Не обязательно словарь, главное чтобы к объекту можно было обращаться по ключу (Mapping).\n",
    "\n",
    "Ключ может быть любого типа, код как не поламается, а вот значение обязательно число (вроде как можно float - т.к. класс более обширен, чем int и bool.\n",
    "\n",
    "Возвращаем число."
   ]
  },
  {
   "cell_type": "markdown",
   "id": "c54ba0bf",
   "metadata": {},
   "source": [
    "#########################"
   ]
  },
  {
   "cell_type": "markdown",
   "id": "94aefed7",
   "metadata": {},
   "source": [
    "**Задача 2**\n",
    "\n",
    "Есть код, который формирует список объектов автомобилей.\n",
    "\n",
    "Задачи:\n",
    "1. Стандартными механизмами отсортировать список одновременно по двум полям: пробег, цена.\n",
    "2. При помощи списковых включений отфильтровать список так: все автомобили с двигателем больше 1.4 кроме черных.\n",
    "3. Повторить пункт 2, но вместо списковых включений использовать функцию filter.\n"
   ]
  },
  {
   "cell_type": "code",
   "execution_count": 63,
   "id": "9f115905",
   "metadata": {},
   "outputs": [],
   "source": [
    "from typing import List\n",
    "\n",
    "\n",
    "class Car:\n",
    "    def __init__(self, year: int, distance: int, color: str, cost: int, engine: float):\n",
    "        self.year: int = year\n",
    "        self.distance: int = distance\n",
    "        self.color: str = color\n",
    "        self.cost: int = cost\n",
    "        self.engine: float = engine\n",
    "\n",
    "    def __repr__(self):\n",
    "        return f'Car({self.color}, {self.distance}, {self.year}, {self.engine}, {self.cost})'\n",
    "\n",
    "\n",
    "def build_cars_objects() -> List[Car]:\n",
    "    dataset = [\n",
    "        (2014, 80_000, 'Black', 450_000, 1.4),\n",
    "        (2019, 0, 'Silver', 1_100_000, 1.6),\n",
    "        (2018, 20_000, 'Blue', 700_000, 1.4),\n",
    "        (2016, 120_000, 'White', 505_000, 2.0),\n",
    "        (2014, 185_000, 'Red', 330_000, 1.4),\n",
    "        (2015, 35_000, 'Black', 890_000, 2.0),\n",
    "        (1998, 240_000, 'Silver', 15_000, 1.3),\n",
    "        (2020, 0, 'White', 2_500_000, 3.0),\n",
    "        (2018, 65_000, 'Yellow', 445_000, 1.6),\n",
    "        (2009, 100_000, 'Red', 250_000, 1.4),\n",
    "        (2021, 0, 'Black', 1_499_000, 1.8),\n",
    "    ]\n",
    "\n",
    "    cars = [Car(*fields) for fields in dataset]\n",
    "    return cars\n",
    "\n",
    "\n",
    "cars = build_cars_objects()"
   ]
  },
  {
   "cell_type": "code",
   "execution_count": 64,
   "id": "8f3c6eb1",
   "metadata": {},
   "outputs": [
    {
     "data": {
      "text/plain": [
       "[Car(Silver, 0, 2019, 1.6, 1100000),\n",
       " Car(Black, 0, 2021, 1.8, 1499000),\n",
       " Car(White, 0, 2020, 3.0, 2500000),\n",
       " Car(Blue, 20000, 2018, 1.4, 700000),\n",
       " Car(Black, 35000, 2015, 2.0, 890000),\n",
       " Car(Yellow, 65000, 2018, 1.6, 445000),\n",
       " Car(Black, 80000, 2014, 1.4, 450000),\n",
       " Car(Red, 100000, 2009, 1.4, 250000),\n",
       " Car(White, 120000, 2016, 2.0, 505000),\n",
       " Car(Red, 185000, 2014, 1.4, 330000),\n",
       " Car(Silver, 240000, 1998, 1.3, 15000)]"
      ]
     },
     "execution_count": 64,
     "metadata": {},
     "output_type": "execute_result"
    }
   ],
   "source": [
    "# 1. Стандартными механизмами отсортировать список одновременно по двум полям: пробег, цена.\n",
    "sorted(cars, key=lambda car: (car.distance, car.cost)) # Если в другом порядке, то reverse=True"
   ]
  },
  {
   "cell_type": "code",
   "execution_count": 65,
   "id": "789c1264",
   "metadata": {},
   "outputs": [
    {
     "data": {
      "text/plain": [
       "[Car(Silver, 0, 2019, 1.6, 1100000),\n",
       " Car(White, 120000, 2016, 2.0, 505000),\n",
       " Car(White, 0, 2020, 3.0, 2500000),\n",
       " Car(Yellow, 65000, 2018, 1.6, 445000)]"
      ]
     },
     "execution_count": 65,
     "metadata": {},
     "output_type": "execute_result"
    }
   ],
   "source": [
    "# 2. При помощи списковых включений отфильтровать список так: все автомобили с двигателем больше 1.4 кроме черных.\n",
    "[car for car in cars if car.engine > 1.4 and car.color != 'Black']"
   ]
  },
  {
   "cell_type": "code",
   "execution_count": 66,
   "id": "f446bcd5",
   "metadata": {},
   "outputs": [
    {
     "data": {
      "text/plain": [
       "[Car(Silver, 0, 2019, 1.6, 1100000),\n",
       " Car(White, 120000, 2016, 2.0, 505000),\n",
       " Car(White, 0, 2020, 3.0, 2500000),\n",
       " Car(Yellow, 65000, 2018, 1.6, 445000)]"
      ]
     },
     "execution_count": 66,
     "metadata": {},
     "output_type": "execute_result"
    }
   ],
   "source": [
    "# 3. Повторить пункт 2, но вместо списковых включений использовать функцию filter.\n",
    "list(filter(lambda car: car.engine > 1.4 and car.color != 'Black', cars))"
   ]
  },
  {
   "cell_type": "markdown",
   "id": "993dfbe4",
   "metadata": {},
   "source": [
    "#########################"
   ]
  },
  {
   "cell_type": "markdown",
   "id": "a0219042",
   "metadata": {},
   "source": [
    "**Задача 3**\n",
    "\n",
    "Эта функция поиска всех питоновских файлов в каталоге, начинающихся не с точки и не с подчеркивания.\n",
    "В функции ошибка, которая приводит к переполнению памяти OS и падению сервера.\n",
    "\n",
    "Нужно догадаться, что может приводить к ошибке."
   ]
  },
  {
   "cell_type": "code",
   "execution_count": 67,
   "id": "2f6602e7",
   "metadata": {},
   "outputs": [],
   "source": [
    "import os\n",
    "\n",
    "\n",
    "def get_python_files(path):\n",
    "    files = [] # не локальная переменная в цикле ниже!\n",
    "    fs_objects = os.walk(path)\n",
    "    \n",
    "    for folder, subfolder, files in fs_objects:\n",
    "        if folder.startswith('.'):\n",
    "            continue\n",
    "        if folder.startswith('_'):\n",
    "            continue\n",
    "        # Здесь files локальная переменная полученная из fs_objects. Бесконечное пополнение списка файлами.\n",
    "        # В цикле список постоянно пополняется и мы уходим в бесконечный цикл, забивая всю память\n",
    "        for file in files: \n",
    "            if file.startswith('_'):\n",
    "                continue\n",
    "            if not file.endswith('.py'):\n",
    "                continue\n",
    "            files.append(f'{folder}/{file}')  # file добавлен в files, лист пополнен=)\n",
    "    return files"
   ]
  },
  {
   "cell_type": "markdown",
   "id": "498e7591",
   "metadata": {},
   "source": [
    "Указал в комментариях к коду.\n",
    "\n",
    "Суть простая, пустой список files - для заполнения в начале кода, заменяется локальной ссылкой в цикле итератора fs_objects.\n",
    "\n",
    "Соответственно, в цикле \"file in files\" мы после каждого прохода удовлетворяющего условиям, добавляем в конец локальной переменной новый file. Список никогда не заканчивается, уходим в бесконечный цикл, пока не скушаем всю память.\n",
    "\n",
    "Ниже рабочее решение:"
   ]
  },
  {
   "cell_type": "code",
   "execution_count": 68,
   "id": "f17a4c34",
   "metadata": {},
   "outputs": [],
   "source": [
    "def get_python_files(path):\n",
    "    file_list = []  # уникальное имя\n",
    "    fs_objects = os.walk(path)\n",
    "\n",
    "    for folder, subfolder, files in fs_objects:\n",
    "        if folder.startswith('.'):\n",
    "            continue\n",
    "        if folder.startswith('_'):\n",
    "            continue\n",
    "        for file in files:\n",
    "            if file.startswith('_'):\n",
    "                continue\n",
    "            if not file.endswith('.py'):\n",
    "                continue\n",
    "            file_list.append(f'{folder}/{file}')  # В локальной области цикла ссылки нет, ищем во внешней.\n",
    "    return file_list"
   ]
  },
  {
   "cell_type": "markdown",
   "id": "df54cade",
   "metadata": {},
   "source": [
    "#######################"
   ]
  },
  {
   "cell_type": "markdown",
   "id": "8a1ef789",
   "metadata": {},
   "source": [
    "**Задача 4**\n",
    "\n",
    "Есть функция `expansive_api()`, которая делает платный (дорогой) API-вызов.\n",
    "Нужно, чтобы функция помнила, сколько раз её вызвали, и чтобы на третий раз она выбросила ошибку:\n",
    "`TooExpensive('Too expansive call')`.\n",
    "При этом вызов функции должен остаться неизменным (неизменяемая секция ниже не должна сломаться)\n",
    "\n",
    "Нужно перечислить возможные варианты, которые приходят в голову, как это сделать (есть как минимум 3) и один из них реализовать."
   ]
  },
  {
   "cell_type": "code",
   "execution_count": 69,
   "id": "11c6b846",
   "metadata": {},
   "outputs": [
    {
     "name": "stdout",
     "output_type": "stream",
     "text": [
      "performing expansive call\n",
      "performing expansive call\n",
      "performing expansive call\n"
     ]
    }
   ],
   "source": [
    "def expansive_api():\n",
    "    print('performing expansive call')\n",
    "\n",
    "# --- неизменяемая секция ---\n",
    "expansive_api()\n",
    "expansive_api()\n",
    "expansive_api()"
   ]
  },
  {
   "cell_type": "markdown",
   "id": "aac04950",
   "metadata": {},
   "source": [
    "1. Декоратор. Оборачиваем функцию, если счетчик вызовов равен 0 - вызываем и локально сохраняем результат, если 1 - возвращаем результат, 2 - ошибка и сброс счетчика. Ну можно еще контроль времени, но это усложняет логику и вне ТЗ). Думаю, это лучший способ.\n",
    "2. Можем запилить подобный счетчик и логику, но в теле самой функции (имхо, худший вариант с т.з. архитектуры). Можем присвоить функции локальную переменную, типа expansive_api.cnt = 0 и уже от нее писать логику (при вызове функции увеличивать). Придется прибегнуть к замыканиям.\n",
    "3. Можем написать производную от данной функции, хранящую счетчик ссылок и дать ей то же название. По мне, те же яйца, что и в п.1, только в профиль"
   ]
  },
  {
   "cell_type": "code",
   "execution_count": 70,
   "id": "de45de41",
   "metadata": {},
   "outputs": [],
   "source": [
    "# Реализую первый\n",
    "\n",
    "class TooExpensive(Exception):\n",
    "    \n",
    "    def __init__(self, text_error=None):\n",
    "        self.text_error = text_error\n",
    "        \n",
    "    def __str__(self):\n",
    "        return self.text_error\n",
    "\n",
    "\n",
    "class CallDecorator:\n",
    "    \n",
    "    def __init__(self, max_call):\n",
    "        self.max_call = max_call  # Вызов, вызывающий исключение\n",
    "        self.cnt = 0  # Счетчик\n",
    "        self.result = self.func = None  # Результат и функции пока не определены\n",
    "\n",
    "        \n",
    "    def __call__(self, func=None): # Работает только для функций без условий (что логично=) )\n",
    "        if func is not None:\n",
    "            self.func = func\n",
    "            return self\n",
    "        \n",
    "        self.cnt += 1\n",
    "        if self.cnt == 1:\n",
    "            self.result = self.func()\n",
    "        elif self.cnt >= self.max_call:\n",
    "            raise TooExpensive('Too expansive call')\n",
    "        return self.result\n",
    "        "
   ]
  },
  {
   "cell_type": "code",
   "execution_count": 74,
   "id": "2b5779a9",
   "metadata": {
    "scrolled": true
   },
   "outputs": [
    {
     "name": "stdout",
     "output_type": "stream",
     "text": [
      "performing expansive call\n",
      "performing expansive call\n"
     ]
    },
    {
     "ename": "TooExpensive",
     "evalue": "Too expansive call",
     "output_type": "error",
     "traceback": [
      "\u001b[1;31m---------------------------------------------------------------------------\u001b[0m",
      "\u001b[1;31mTooExpensive\u001b[0m                              Traceback (most recent call last)",
      "Input \u001b[1;32mIn [74]\u001b[0m, in \u001b[0;36m<cell line: 8>\u001b[1;34m()\u001b[0m\n\u001b[0;32m      6\u001b[0m \u001b[38;5;28mprint\u001b[39m(expansive_api())\n\u001b[0;32m      7\u001b[0m \u001b[38;5;28mprint\u001b[39m(expansive_api())\n\u001b[1;32m----> 8\u001b[0m \u001b[38;5;28mprint\u001b[39m(\u001b[43mexpansive_api\u001b[49m\u001b[43m(\u001b[49m\u001b[43m)\u001b[49m)\n",
      "Input \u001b[1;32mIn [70]\u001b[0m, in \u001b[0;36mCallDecorator.__call__\u001b[1;34m(self, func)\u001b[0m\n\u001b[0;32m     27\u001b[0m     \u001b[38;5;28mself\u001b[39m\u001b[38;5;241m.\u001b[39mresult \u001b[38;5;241m=\u001b[39m \u001b[38;5;28mself\u001b[39m\u001b[38;5;241m.\u001b[39mfunc()\n\u001b[0;32m     28\u001b[0m \u001b[38;5;28;01melif\u001b[39;00m \u001b[38;5;28mself\u001b[39m\u001b[38;5;241m.\u001b[39mcnt \u001b[38;5;241m>\u001b[39m\u001b[38;5;241m=\u001b[39m \u001b[38;5;28mself\u001b[39m\u001b[38;5;241m.\u001b[39mmax_call:\n\u001b[1;32m---> 29\u001b[0m     \u001b[38;5;28;01mraise\u001b[39;00m TooExpensive(\u001b[38;5;124m'\u001b[39m\u001b[38;5;124mToo expansive call\u001b[39m\u001b[38;5;124m'\u001b[39m)\n\u001b[0;32m     30\u001b[0m \u001b[38;5;28;01mreturn\u001b[39;00m \u001b[38;5;28mself\u001b[39m\u001b[38;5;241m.\u001b[39mresult\n",
      "\u001b[1;31mTooExpensive\u001b[0m: Too expansive call"
     ]
    }
   ],
   "source": [
    "@CallDecorator(3) # На 3й выкидываем\n",
    "def expansive_api():\n",
    "    return 'performing expansive call' # Функция с принтом ничего не возвращает\n",
    "\n",
    "# --- неизменяемая секция ---\n",
    "print(expansive_api())\n",
    "print(expansive_api())\n",
    "print(expansive_api())"
   ]
  },
  {
   "cell_type": "markdown",
   "id": "8edf6ebc",
   "metadata": {},
   "source": [
    "#####################"
   ]
  },
  {
   "cell_type": "markdown",
   "id": "18eb3ed3",
   "metadata": {},
   "source": [
    "**Задача 5**\n",
    "\n",
    "Есть некий исполнитель `Performer` абстрактных задач. И есть две разные задачи `CreateEntry` и `DeleteEntry`.\n",
    "1. Нужно сделать утиную типизацию таким образом, чтобы исполнитель умел выполнять любую подходящую задачу.\n",
    "2. Нужно при помощи инверсии управления (IoC) сделать возможным в самой задаче переопределять поведение инициализации и завершения задачи, а так же реакцию на ошибку.\n",
    "3. Для демонстрации на основе этой архитектуры определить в `CreateEntry` поведение для подключения/отключения БД перед и после выполнения задачи. А в `DeleteEntry` определить поведение в случае ошибки. В качестве стабов можно использовать принты типа `print('connect to DB')`"
   ]
  },
  {
   "cell_type": "markdown",
   "id": "95bf7388",
   "metadata": {},
   "source": [
    "С IoC не работал. Но если я понял правильно, код ниже:"
   ]
  },
  {
   "cell_type": "code",
   "execution_count": 75,
   "id": "799c5589",
   "metadata": {},
   "outputs": [],
   "source": [
    "class Performer:\n",
    "    creater: 'CreateEntry' = None\n",
    "    deleter: 'DeleteEntry' = None\n",
    "    \n",
    "    def __new__(cls):\n",
    "        if not hasattr(cls, 'instance'):\n",
    "            cls.instance = super().__new__(cls)\n",
    "            cls.creater = CreateEntry()\n",
    "            cls.deleter = DeleteEntry()\n",
    "        return cls.instance\n",
    "    \n",
    "    def work1(self):\n",
    "        print('work1')\n",
    "        \n",
    "    def work2(self):\n",
    "        print('work2')\n",
    "        \n",
    "        \n",
    "    def perform(self, task: str):  # Будем предпологать, что все задачи без условий\n",
    "        self.creater.connect()\n",
    "        result = None\n",
    "        try:\n",
    "            result = self.__getattribute__(task)()\n",
    "        except:\n",
    "            self.deleter.do_if_error()\n",
    "        finally:\n",
    "            self.creater.disconect()\n",
    "        return result\n",
    "    \n",
    "\n",
    "class CreateEntry:\n",
    "    \n",
    "    def connect(self):\n",
    "        print('connect to DB')\n",
    "        \n",
    "        \n",
    "    def disconect(self):\n",
    "        print('disconect DB')\n",
    "\n",
    "\n",
    "class DeleteEntry:\n",
    "    def do_if_error(self):\n",
    "        print('\\n\\nWORK WITH ERROR \\n\\n ')\n",
    "        "
   ]
  },
  {
   "cell_type": "code",
   "execution_count": 76,
   "id": "95ac6ac4",
   "metadata": {},
   "outputs": [
    {
     "name": "stdout",
     "output_type": "stream",
     "text": [
      "connect to DB\n",
      "work1\n",
      "disconect DB\n",
      "--------------------\n",
      "connect to DB\n",
      "work2\n",
      "disconect DB\n",
      "--------------------\n",
      "connect to DB\n",
      "\n",
      "\n",
      "WORK WITH ERROR \n",
      "\n",
      " \n",
      "disconect DB\n"
     ]
    }
   ],
   "source": [
    "perf = Performer()\n",
    "perf.perform('work1')\n",
    "print('-'*20)\n",
    "perf.perform('work2')\n",
    "print('-'*20)\n",
    "perf.perform('work3')"
   ]
  },
  {
   "cell_type": "markdown",
   "id": "33aa7766",
   "metadata": {},
   "source": [
    "################################"
   ]
  },
  {
   "cell_type": "markdown",
   "id": "023264ba",
   "metadata": {},
   "source": [
    "**Задача 6**\n",
    "\n",
    "Ниже приведен код. Нужно объяснить, что там происходит и зачем."
   ]
  },
  {
   "cell_type": "code",
   "execution_count": null,
   "id": "fb76aeab",
   "metadata": {
    "scrolled": true
   },
   "outputs": [],
   "source": [
    "import unittest\n",
    "from unittest.mock import patch\n",
    "\n",
    "\n",
    "def get_data_from_file(): # Метод возвращает some,data\n",
    "    print('Reading from file')\n",
    "    return 'some,data'\n",
    "\n",
    "\n",
    "def format_data():\n",
    "    data = get_data_from_file()\n",
    "    return data.replace(',', ', ').capitalize() #some,data --> Some, data, замена и первая буква с заглавной\n",
    "\n",
    "\n",
    "class Test1(unittest.TestCase):\n",
    "    def test_format_data(self):\n",
    "        with patch('__main__.get_data_from_file') as mock_get_data_from_file: # Получаем объект для подмены (mock)\n",
    "             # Теперь наша функция при вызове возвращает 'hello,world'\n",
    "            mock_get_data_from_file.return_value = 'hello,world'\n",
    "            result = format_data()  # из этой функции вызывается get_data_from_file (mock)\n",
    "            assert result == 'Hello, world' # Отработан верно\n",
    "            mock_get_data_from_file.assert_called_once() # Проверка, что mock вызывался не более одного раза\n",
    "\n",
    "\n",
    "unittest.main()  # старт тестов!"
   ]
  },
  {
   "cell_type": "markdown",
   "id": "ff8eade3",
   "metadata": {},
   "source": [
    "По тесту\n",
    "1. Получаем объект для подмены (mock)\n",
    "2. Теперь наша функция (get_data_from_file) при вызове возвращает 'hello,world'\n",
    "3. Из функции format_data вызывается get_data_from_file (mock)\n",
    "4. Проверяем результат\n",
    "5. Проверяем, что mock вызывался более одного раза\n",
    "\n",
    "Примечание - код отработал в Pycharm, но указать пришлось не `__main__`, a имя модуля"
   ]
  },
  {
   "cell_type": "markdown",
   "id": "218f204a",
   "metadata": {},
   "source": [
    "######################################"
   ]
  },
  {
   "cell_type": "markdown",
   "id": "067ba580",
   "metadata": {},
   "source": [
    "Задача 7\n",
    "\n",
    "Есть кривой асинхронный код, который на самом деле синхронный. Нужно его исправить, чтоб он стал асинхронным."
   ]
  },
  {
   "cell_type": "code",
   "execution_count": null,
   "id": "699c022c",
   "metadata": {},
   "outputs": [],
   "source": [
    "import asyncio\n",
    "\n",
    "\n",
    "async def connect_db_1():\n",
    "    print('Start connecting to DB_1')\n",
    "    await asyncio.sleep(5)  # slow connect to DB_1\n",
    "    print('Finish connecting to DB_1')\n",
    "\n",
    "\n",
    "async def connect_db_2():\n",
    "    print('Start connecting to DB_2')\n",
    "    await asyncio.sleep(3)  # slow connect to DB_2\n",
    "    print('Finish connecting to DB_2')\n",
    "\n",
    "\n",
    "async def app_startup():\n",
    "    await connect_db_1() # Запускаем сопрограмму, ждем результата. Формально, это блок основного потока\n",
    "    await connect_db_2() # Так как этот вызов находидтся в одном потоке, он не запустится, пока не отработает connect_db_1\n",
    "\n",
    "asyncio.run(app_startup())"
   ]
  },
  {
   "cell_type": "code",
   "execution_count": null,
   "id": "4fa6e698",
   "metadata": {},
   "outputs": [],
   "source": [
    "# Так заработает\n",
    "async def app_startup():\n",
    "    # Создаем две таски, запускаемые в цикле событий\n",
    "    task1 = asyncio.create_task(connect_db_1())\n",
    "    task2 = asyncio.create_task(connect_db_2())\n",
    "    # Теперь работа асинхронна \n",
    "    await task1\n",
    "    await task2"
   ]
  },
  {
   "cell_type": "markdown",
   "id": "71c0dbe7",
   "metadata": {},
   "source": [
    "Примечание: при таком подходе task2 все же зависим от task1 (возврат результата). Но выполняются они асинхронно"
   ]
  },
  {
   "cell_type": "markdown",
   "id": "37aba9f2",
   "metadata": {},
   "source": [
    "#######################################"
   ]
  },
  {
   "cell_type": "markdown",
   "id": "86b22d9c",
   "metadata": {},
   "source": [
    "---\n",
    "\n",
    "**Задача 8**\n",
    "\n",
    "Есть скрипт получения пользователя из БД, стэк вызовов такой:\n",
    "\n",
    "```\n",
    "main_entrypoint(user_id)\n",
    "╰-> get_user(user_id)\n",
    "    ╰-> get_user_data(user_id)\n",
    "        ╰-> get_data_from_db(query)\n",
    "            ╰-> db_is_available()\n",
    "```\n",
    "\n",
    "\n",
    "Если БД недоступна, то через весь стэк до верхнего уровня передается `None`,\n",
    "обременяя каждую функцию лишними обязанностями проверки на `None`.\n",
    "Кроме того, это усложняет типизацию, мы почти везде вынуждены добавлять `Optional`.\n",
    "\n",
    "Как решить эти две проблемы?"
   ]
  },
  {
   "cell_type": "code",
   "execution_count": null,
   "id": "15baee7a",
   "metadata": {},
   "outputs": [],
   "source": [
    "import random\n",
    "import logging\n",
    "from typing import Dict, Optional\n",
    "\n",
    "logger = logging.getLogger(__name__)\n",
    "\n",
    "\n",
    "# level 5 Провека доступа\n",
    "def db_is_available() -> bool:\n",
    "    return random.choice([True, False])  # имитация случайного отключения БД\n",
    "\n",
    "\n",
    "# level 4 Select\n",
    "def get_data_from_db(query) -> Optional[Dict]:\n",
    "    if not db_is_available():\n",
    "        return None\n",
    "    else:\n",
    "        return {'request': 'result'}\n",
    "\n",
    "\n",
    "# level 3 формирование запроса\n",
    "def get_user_data(user_id: int) -> Optional[Dict]:\n",
    "    query = f'SELECT * FROM users WHERE id={user_id}'\n",
    "    user_data = get_data_from_db(query)\n",
    "    if user_data is None:\n",
    "        return None\n",
    "    return user_data\n",
    "\n",
    "\n",
    "# level 2 получение конкретных данных\n",
    "def get_user(user_id: int) -> Optional[Dict]:\n",
    "    user_data = get_user_data(user_id)\n",
    "    if user_data is None:\n",
    "        return None\n",
    "    user = {'user': 'data'}\n",
    "    return user\n",
    "\n",
    "# level 1 логирование\n",
    "def main_entrypoint(user_id: int) -> Optional[Dict]:\n",
    "    user = get_user(user_id)\n",
    "    if user is None:\n",
    "        logger.error(f'Failed to sync user {user_id}')\n",
    "        return None\n",
    "    else:\n",
    "        logger.info(f'Sync user {user_id} success')\n",
    "        return user"
   ]
  },
  {
   "cell_type": "markdown",
   "id": "74e5d991",
   "metadata": {},
   "source": [
    "Проверку доступности нужно провести в первую очередь, сразу убрав вызов функций в стеке. В остальных случаях мы всегда получим dict. Но как я понял, если нет юзера в БД, то получим пустой объект {'request': None}."
   ]
  },
  {
   "cell_type": "code",
   "execution_count": 77,
   "id": "f84a8e10",
   "metadata": {},
   "outputs": [],
   "source": [
    "import random\n",
    "import logging\n",
    "from typing import Dict, Optional\n",
    "\n",
    "logger = logging.getLogger(__name__)\n",
    "\n",
    "\n",
    "# level 5 Провека доступа\n",
    "def db_is_available() -> bool:\n",
    "    return random.choice([True, False])  # имитация случайного отключения БД\n",
    "\n",
    "\n",
    "# level 4 Select\n",
    "def get_data_from_db(query) -> Dict:\n",
    "    result = {'request': 'result'}\n",
    "    return result\n",
    "\n",
    "\n",
    "# level 3 формирование запроса\n",
    "def get_user_data(user_id: int) -> Dict:\n",
    "    query = f'SELECT * FROM users WHERE id={user_id}'\n",
    "    return get_data_from_db(query)\n",
    "\n",
    "# level 2 получение конкретных данных\n",
    "def get_user(user_id: int) -> Dict:\n",
    "    user_data = get_user_data(user_id)\n",
    "    user = {'user': 'data'}\n",
    "    return user\n",
    "\n",
    "# level 1 логирование\n",
    "def main_entrypoint(user_id: int) -> Optional[Dict]:\n",
    "    if db_is_available():\n",
    "        user = get_user(user_id)\n",
    "        logger.info(f'Sync user {user_id} success')\n",
    "        return user \n",
    "    logger.error(f'Failed to sync user {user_id}')"
   ]
  },
  {
   "cell_type": "markdown",
   "id": "62d76529",
   "metadata": {},
   "source": [
    "#####################################################"
   ]
  },
  {
   "cell_type": "markdown",
   "id": "4cad8c78",
   "metadata": {},
   "source": [
    "**Задача 9**\n",
    "\n",
    "Что делает эта строка?\n",
    "\n",
    "`grep -E '(sudo|ssh)' /var/log/auth.log`\n"
   ]
  },
  {
   "cell_type": "markdown",
   "id": "7c0db380",
   "metadata": {},
   "source": [
    "**Линух не админил, простите=)**"
   ]
  },
  {
   "cell_type": "markdown",
   "id": "469aef0c",
   "metadata": {},
   "source": [
    "---\n",
    "\n",
    "**Задача 10**\n",
    "\n",
    "Есть многопоточная программа, которая куда-то пишет данные (в консоль или файл).\n",
    "Ниже приведен кусок этого вывода, где строки наслаиваются друг на друга.\n",
    "Какой ситуацией может быть вызван такой эффект и как это исправить?\n",
    "\n",
    "\n",
    "```\n",
    "2022-02-02 09:09:22.930163 Some sample data\n",
    "2022-02-02 09:20:18.569518 Some sample data\n",
    "2022-02-02 10:48:52.062795 Some sample data\n",
    "2022-02-02 18:25:03.978288 Some sample data\n",
    "2022-02-03 12:212022-02-03 14:18:33.833549 Some sample data\n",
    ":22.955283 Some sample data\n",
    "2022-02-05 08:04:41.224744 Some sample data\n",
    "2022-02-06 08:10:15.876875 Some sample data\n",
    "2022-02-15 10:58:29.634397 Some sample data\n",
    "2022-02-15 11:00:41.260224 Some sample data\n",
    "2022-02-15 11:03:05.161016 Some sample data\n",
    "2022-02-15 11:05:25.318107 Some sample data\n",
    "```\n"
   ]
  },
  {
   "cell_type": "markdown",
   "id": "080bc523",
   "metadata": {},
   "source": [
    "Проблема в том, что к консоли или файлу одновременно обращаются несколько потоков. Вначале пишет один, затем GIL перехватывает другой поток и начинает писать свои данные. Мы и видим эту проблему.\n",
    "Обходится это механизмом блокировок=)"
   ]
  },
  {
   "cell_type": "markdown",
   "id": "4785a518",
   "metadata": {},
   "source": [
    "#################################################"
   ]
  },
  {
   "cell_type": "markdown",
   "id": "d5470bdd",
   "metadata": {},
   "source": [
    "**Задача 11**\n",
    "\n",
    "Нужно придумать схему хранения пользователей их постов и лайков к постам. У каждого пользователя есть логин, имя и телефон. У поста есть заголовок, текст и дата поста.\n",
    "\n",
    "Нужно устно продумать схему таблиц, отношений, перечислить возможные поля, примерные типы данных, индексы, ключи. Чем больше всего будет продумано, тем лучше."
   ]
  },
  {
   "cell_type": "markdown",
   "id": "9cc4b6ab",
   "metadata": {},
   "source": [
    "Картинка с БД будет приложена в github."
   ]
  },
  {
   "attachments": {},
   "cell_type": "markdown",
   "id": "f0934507",
   "metadata": {},
   "source": [
    "**USERS**\n",
    "\n",
    "    PK\t id\tINTEGER PK IDENTITY\n",
    "        login\tVARCHAR(100) NOT NULL UNIQUE\n",
    "        name\t NVARCHAR(100) NOT NULL\n",
    "        phone\tBIGINT UNIQUE\n",
    "        \n",
    "**POSTS**\n",
    "\n",
    "    PK\tpost_id\tBIGINT PK IDENTITY\n",
    "    FK\tuser_id\tINTEGER NOT NULL\n",
    "          title\t  NVARCHAR(300) NOT NULL\n",
    "          text\t   TEXT NOT NULL\n",
    "          date\t   DATETIME NOT NULL DEFAULT GETDATETIME()\n",
    "\n",
    "\n",
    "**LIKES**\n",
    "\n",
    "        FK\tpost_id\tBIGINT\n",
    "        FK\tuser_id\tINTEGER\n"
   ]
  },
  {
   "cell_type": "markdown",
   "id": "8b9de05c",
   "metadata": {},
   "source": [
    "Три таблицы с полями указанными выше (плюс тип поля, уникальное значение, первичный/внешний ключ, дефолтное значение).\n",
    "Индексировать не вижу смысла - FK ссылки, PK индексируется по умолчанию. Дату можно определять на строне СУБД (плюс ID идет по возрастанию, т.е. его нет смыслк как то индексировать). Связи c таблицами по FK. LIKES - многие ко многим. При удалении записей установить каскадное удаление (пропал юзер, пропали его посты и лайки по PK-FK)\n",
    "\n",
    "Понятно, что это ограниченное решение (нет, например, таблиц с корректировками и прочим, но +/- пойдет, имхо)"
   ]
  }
 ],
 "metadata": {
  "kernelspec": {
   "display_name": "Python 3 (ipykernel)",
   "language": "python",
   "name": "python3"
  },
  "language_info": {
   "codemirror_mode": {
    "name": "ipython",
    "version": 3
   },
   "file_extension": ".py",
   "mimetype": "text/x-python",
   "name": "python",
   "nbconvert_exporter": "python",
   "pygments_lexer": "ipython3",
   "version": "3.9.12"
  }
 },
 "nbformat": 4,
 "nbformat_minor": 5
}
